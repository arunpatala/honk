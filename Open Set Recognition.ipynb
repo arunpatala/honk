{
 "cells": [
  {
   "cell_type": "code",
   "execution_count": 56,
   "metadata": {},
   "outputs": [],
   "source": [
    "import pandas as pd\n",
    "import numpy as np\n",
    "import matplotlib.pyplot as plt\n",
    "%matplotlib inline"
   ]
  },
  {
   "cell_type": "code",
   "execution_count": 57,
   "metadata": {},
   "outputs": [],
   "source": [
    "df = pd.read_csv('expC/fcdeveval.csv', header=None)"
   ]
  },
  {
   "cell_type": "code",
   "execution_count": 58,
   "metadata": {},
   "outputs": [
    {
     "data": {
      "text/html": [
       "<div>\n",
       "<style scoped>\n",
       "    .dataframe tbody tr th:only-of-type {\n",
       "        vertical-align: middle;\n",
       "    }\n",
       "\n",
       "    .dataframe tbody tr th {\n",
       "        vertical-align: top;\n",
       "    }\n",
       "\n",
       "    .dataframe thead th {\n",
       "        text-align: right;\n",
       "    }\n",
       "</style>\n",
       "<table border=\"1\" class=\"dataframe\">\n",
       "  <thead>\n",
       "    <tr style=\"text-align: right;\">\n",
       "      <th></th>\n",
       "      <th>0</th>\n",
       "      <th>1</th>\n",
       "      <th>2</th>\n",
       "      <th>3</th>\n",
       "      <th>4</th>\n",
       "      <th>5</th>\n",
       "      <th>6</th>\n",
       "      <th>7</th>\n",
       "      <th>8</th>\n",
       "      <th>9</th>\n",
       "      <th>...</th>\n",
       "      <th>49</th>\n",
       "      <th>50</th>\n",
       "      <th>51</th>\n",
       "      <th>52</th>\n",
       "      <th>53</th>\n",
       "      <th>54</th>\n",
       "      <th>55</th>\n",
       "      <th>56</th>\n",
       "      <th>57</th>\n",
       "      <th>58</th>\n",
       "    </tr>\n",
       "  </thead>\n",
       "  <tbody>\n",
       "    <tr>\n",
       "      <th>0</th>\n",
       "      <td>11.0</td>\n",
       "      <td>11.0</td>\n",
       "      <td>0.0</td>\n",
       "      <td>0.000</td>\n",
       "      <td>0.000</td>\n",
       "      <td>0.000</td>\n",
       "      <td>0.000</td>\n",
       "      <td>0.000</td>\n",
       "      <td>0.000</td>\n",
       "      <td>0.0</td>\n",
       "      <td>...</td>\n",
       "      <td>-0.166</td>\n",
       "      <td>-0.097</td>\n",
       "      <td>-0.285</td>\n",
       "      <td>0.204</td>\n",
       "      <td>-0.268</td>\n",
       "      <td>-0.197</td>\n",
       "      <td>0.338</td>\n",
       "      <td>-0.029</td>\n",
       "      <td>-0.204</td>\n",
       "      <td>-0.127</td>\n",
       "    </tr>\n",
       "    <tr>\n",
       "      <th>1</th>\n",
       "      <td>11.0</td>\n",
       "      <td>3.0</td>\n",
       "      <td>0.0</td>\n",
       "      <td>0.000</td>\n",
       "      <td>0.014</td>\n",
       "      <td>0.873</td>\n",
       "      <td>0.000</td>\n",
       "      <td>0.011</td>\n",
       "      <td>0.001</td>\n",
       "      <td>0.0</td>\n",
       "      <td>...</td>\n",
       "      <td>-0.180</td>\n",
       "      <td>0.001</td>\n",
       "      <td>-0.111</td>\n",
       "      <td>0.295</td>\n",
       "      <td>-0.103</td>\n",
       "      <td>-0.280</td>\n",
       "      <td>0.161</td>\n",
       "      <td>0.236</td>\n",
       "      <td>-0.157</td>\n",
       "      <td>0.515</td>\n",
       "    </tr>\n",
       "    <tr>\n",
       "      <th>2</th>\n",
       "      <td>11.0</td>\n",
       "      <td>11.0</td>\n",
       "      <td>0.0</td>\n",
       "      <td>0.000</td>\n",
       "      <td>0.000</td>\n",
       "      <td>0.001</td>\n",
       "      <td>0.000</td>\n",
       "      <td>0.000</td>\n",
       "      <td>0.000</td>\n",
       "      <td>0.0</td>\n",
       "      <td>...</td>\n",
       "      <td>-0.050</td>\n",
       "      <td>-0.020</td>\n",
       "      <td>-0.146</td>\n",
       "      <td>0.184</td>\n",
       "      <td>-0.337</td>\n",
       "      <td>-0.008</td>\n",
       "      <td>0.449</td>\n",
       "      <td>-0.214</td>\n",
       "      <td>-0.303</td>\n",
       "      <td>-0.022</td>\n",
       "    </tr>\n",
       "    <tr>\n",
       "      <th>3</th>\n",
       "      <td>11.0</td>\n",
       "      <td>11.0</td>\n",
       "      <td>0.0</td>\n",
       "      <td>0.002</td>\n",
       "      <td>0.000</td>\n",
       "      <td>0.000</td>\n",
       "      <td>0.000</td>\n",
       "      <td>0.310</td>\n",
       "      <td>0.000</td>\n",
       "      <td>0.0</td>\n",
       "      <td>...</td>\n",
       "      <td>-0.158</td>\n",
       "      <td>0.269</td>\n",
       "      <td>0.029</td>\n",
       "      <td>-0.017</td>\n",
       "      <td>-0.216</td>\n",
       "      <td>-0.019</td>\n",
       "      <td>0.074</td>\n",
       "      <td>-0.138</td>\n",
       "      <td>0.112</td>\n",
       "      <td>0.012</td>\n",
       "    </tr>\n",
       "    <tr>\n",
       "      <th>4</th>\n",
       "      <td>11.0</td>\n",
       "      <td>11.0</td>\n",
       "      <td>0.0</td>\n",
       "      <td>0.001</td>\n",
       "      <td>0.000</td>\n",
       "      <td>0.001</td>\n",
       "      <td>0.001</td>\n",
       "      <td>0.088</td>\n",
       "      <td>0.000</td>\n",
       "      <td>0.0</td>\n",
       "      <td>...</td>\n",
       "      <td>-0.109</td>\n",
       "      <td>-0.150</td>\n",
       "      <td>-0.286</td>\n",
       "      <td>-0.080</td>\n",
       "      <td>-0.310</td>\n",
       "      <td>-0.155</td>\n",
       "      <td>0.206</td>\n",
       "      <td>-0.256</td>\n",
       "      <td>0.162</td>\n",
       "      <td>-0.092</td>\n",
       "    </tr>\n",
       "  </tbody>\n",
       "</table>\n",
       "<p>5 rows × 59 columns</p>\n",
       "</div>"
      ],
      "text/plain": [
       "     0     1    2      3      4      5      6      7      8    9   ...    \\\n",
       "0  11.0  11.0  0.0  0.000  0.000  0.000  0.000  0.000  0.000  0.0  ...     \n",
       "1  11.0   3.0  0.0  0.000  0.014  0.873  0.000  0.011  0.001  0.0  ...     \n",
       "2  11.0  11.0  0.0  0.000  0.000  0.001  0.000  0.000  0.000  0.0  ...     \n",
       "3  11.0  11.0  0.0  0.002  0.000  0.000  0.000  0.310  0.000  0.0  ...     \n",
       "4  11.0  11.0  0.0  0.001  0.000  0.001  0.001  0.088  0.000  0.0  ...     \n",
       "\n",
       "      49     50     51     52     53     54     55     56     57     58  \n",
       "0 -0.166 -0.097 -0.285  0.204 -0.268 -0.197  0.338 -0.029 -0.204 -0.127  \n",
       "1 -0.180  0.001 -0.111  0.295 -0.103 -0.280  0.161  0.236 -0.157  0.515  \n",
       "2 -0.050 -0.020 -0.146  0.184 -0.337 -0.008  0.449 -0.214 -0.303 -0.022  \n",
       "3 -0.158  0.269  0.029 -0.017 -0.216 -0.019  0.074 -0.138  0.112  0.012  \n",
       "4 -0.109 -0.150 -0.286 -0.080 -0.310 -0.155  0.206 -0.256  0.162 -0.092  \n",
       "\n",
       "[5 rows x 59 columns]"
      ]
     },
     "execution_count": 58,
     "metadata": {},
     "output_type": "execute_result"
    }
   ],
   "source": [
    "df.head()"
   ]
  },
  {
   "cell_type": "code",
   "execution_count": 59,
   "metadata": {},
   "outputs": [
    {
     "data": {
      "text/plain": [
       "0.71744930629669157"
      ]
     },
     "execution_count": 59,
     "metadata": {},
     "output_type": "execute_result"
    }
   ],
   "source": [
    "(df[0]==df[1]).mean()"
   ]
  },
  {
   "cell_type": "code",
   "execution_count": 60,
   "metadata": {},
   "outputs": [
    {
     "data": {
      "text/plain": [
       "1.0     1171\n",
       "3.0      252\n",
       "6.0      250\n",
       "8.0      244\n",
       "7.0      237\n",
       "0.0      234\n",
       "9.0      233\n",
       "10.0     231\n",
       "4.0      228\n",
       "11.0     226\n",
       "2.0      223\n",
       "5.0      219\n",
       "Name: 0, dtype: int64"
      ]
     },
     "execution_count": 60,
     "metadata": {},
     "output_type": "execute_result"
    }
   ],
   "source": [
    "df[0].value_counts()"
   ]
  },
  {
   "cell_type": "code",
   "execution_count": 61,
   "metadata": {},
   "outputs": [
    {
     "data": {
      "text/plain": [
       "9.0     540\n",
       "1.0     489\n",
       "8.0     458\n",
       "2.0     453\n",
       "11.0    346\n",
       "10.0    256\n",
       "6.0     251\n",
       "3.0     247\n",
       "5.0     235\n",
       "7.0     233\n",
       "4.0     227\n",
       "0.0      13\n",
       "Name: 1, dtype: int64"
      ]
     },
     "execution_count": 61,
     "metadata": {},
     "output_type": "execute_result"
    }
   ],
   "source": [
    "df[1].value_counts()"
   ]
  },
  {
   "cell_type": "code",
   "execution_count": 62,
   "metadata": {},
   "outputs": [],
   "source": [
    "from sklearn.metrics import confusion_matrix"
   ]
  },
  {
   "cell_type": "code",
   "execution_count": 63,
   "metadata": {},
   "outputs": [],
   "source": [
    "import itertools\n",
    "def plot_confusion_matrix(cm, classes,\n",
    "                          normalize=False,\n",
    "                          title='Confusion matrix',\n",
    "                          cmap=plt.cm.Blues):\n",
    "    \"\"\"\n",
    "    This function prints and plots the confusion matrix.\n",
    "    Normalization can be applied by setting `normalize=True`.\n",
    "    \"\"\"\n",
    "    if normalize:\n",
    "        cm = cm.astype('float') / cm.sum(axis=1)[:, np.newaxis]\n",
    "        print(\"Normalized confusion matrix\")\n",
    "    else:\n",
    "        print('Confusion matrix, without normalization')\n",
    "\n",
    "    print(cm)\n",
    "\n",
    "    plt.imshow(cm, interpolation='nearest', cmap=cmap)\n",
    "    plt.title(title)\n",
    "    plt.colorbar()\n",
    "    tick_marks = np.arange(len(classes))\n",
    "    plt.xticks(tick_marks, classes, rotation=45)\n",
    "    plt.yticks(tick_marks, classes)\n",
    "\n",
    "    fmt = '.2f' if normalize else 'd'\n",
    "    thresh = cm.max() / 2.\n",
    "    for i, j in itertools.product(range(cm.shape[0]), range(cm.shape[1])):\n",
    "        plt.text(j, i, format(cm[i, j], fmt),\n",
    "                 horizontalalignment=\"center\",\n",
    "                 color=\"white\" if cm[i, j] > thresh else \"black\")\n",
    "\n",
    "    plt.tight_layout()\n",
    "    plt.ylabel('True label')\n",
    "    plt.xlabel('Predicted label')"
   ]
  },
  {
   "cell_type": "code",
   "execution_count": 64,
   "metadata": {},
   "outputs": [],
   "source": [
    "cm = confusion_matrix(df[0],df[1])"
   ]
  },
  {
   "cell_type": "code",
   "execution_count": 65,
   "metadata": {},
   "outputs": [
    {
     "name": "stdout",
     "output_type": "stream",
     "text": [
      "Confusion matrix, without normalization\n",
      "[[  0   0 234   0   0   0   0   0   0   0   0   0]\n",
      " [  8 455   2   0   4  17   7   2 213 304  30 129]\n",
      " [  0   3 216   0   0   0   4   0   0   0   0   0]\n",
      " [  0   3   0 242   0   3   1   0   0   0   1   2]\n",
      " [  1   2   0   0 213   0   0   0   4   8   0   0]\n",
      " [  0   5   0   1   0 209   0   0   0   0   1   3]\n",
      " [  0   5   1   0   1   0 238   3   1   1   0   0]\n",
      " [  0   8   0   0   0   0   1 227   1   0   0   0]\n",
      " [  2   2   0   0   1   0   0   1 235   3   0   0]\n",
      " [  0   1   0   0   5   0   0   0   3 223   1   0]\n",
      " [  1   1   0   0   2   2   0   0   1   1 221   2]\n",
      " [  1   4   0   4   1   4   0   0   0   0   2 210]]\n"
     ]
    },
    {
     "data": {
      "image/png": "[encoded data removed]",
      "text/plain": [
       "<matplotlib.figure.Figure at 0x7ff5f3f057f0>"
      ]
     },
     "metadata": {},
     "output_type": "display_data"
    }
   ],
   "source": [
    "plot_confusion_matrix(cm, commands)"
   ]
  },
  {
   "cell_type": "code",
   "execution_count": 66,
   "metadata": {},
   "outputs": [],
   "source": [
    "commands = [\"silence\", \"unknown\"]\n",
    "commands.extend(\"yes no up down left right on off stop go\".split(\" \"))"
   ]
  },
  {
   "cell_type": "code",
   "execution_count": 92,
   "metadata": {},
   "outputs": [],
   "source": [
    "label = 11"
   ]
  },
  {
   "cell_type": "code",
   "execution_count": 93,
   "metadata": {},
   "outputs": [],
   "source": [
    "df11 = df[(df[0]==label) & (df[1]==label)]\n",
    "df11 = df11.iloc[:,-45:]\n",
    "#dfc = df11.iloc[:,-45:]\n",
    "dfcm = df11.as_matrix()\n",
    "mdfcm = dfcm.mean(axis=0)"
   ]
  },
  {
   "cell_type": "code",
   "execution_count": 94,
   "metadata": {},
   "outputs": [
    {
     "name": "stdout",
     "output_type": "stream",
     "text": [
      "0.606936416185\n"
     ]
    }
   ],
   "source": [
    "#prec\n",
    "df01 = df[(df[1]==label)]\n",
    "print((df01[0]==label).mean())\n",
    "df01 = df01.iloc[:,-45:]"
   ]
  },
  {
   "cell_type": "code",
   "execution_count": 95,
   "metadata": {},
   "outputs": [
    {
     "name": "stdout",
     "output_type": "stream",
     "text": [
      "0.929203539823\n"
     ]
    }
   ],
   "source": [
    "#recall\n",
    "df10 = df[(df[0]==label)]\n",
    "print((df10[1]==label).mean())\n",
    "df10 = df10.iloc[:,-45:]"
   ]
  },
  {
   "cell_type": "code",
   "execution_count": 96,
   "metadata": {},
   "outputs": [
    {
     "data": {
      "text/plain": [
       "(array([  1.,   3.,   5.,  11.,  10.,   5.,  11.,  17.,  18.,  22.,  13.,\n",
       "         13.,  16.,  11.,  10.,   8.,   9.,   7.,   8.,   1.,   4.,   3.,\n",
       "          1.,   1.,   0.,   1.,   0.,   0.,   0.,   1.]),\n",
       " array([ 0.57601529,  0.63929964,  0.70258398,  0.76586832,  0.82915267,\n",
       "         0.89243701,  0.95572136,  1.0190057 ,  1.08229005,  1.14557439,\n",
       "         1.20885874,  1.27214308,  1.33542742,  1.39871177,  1.46199611,\n",
       "         1.52528046,  1.5885648 ,  1.65184915,  1.71513349,  1.77841784,\n",
       "         1.84170218,  1.90498652,  1.96827087,  2.03155521,  2.09483956,\n",
       "         2.1581239 ,  2.22140825,  2.28469259,  2.34797693,  2.41126128,\n",
       "         2.47454562]),\n",
       " <a list of 30 Patch objects>)"
      ]
     },
     "execution_count": 96,
     "metadata": {},
     "output_type": "execute_result"
    },
    {
     "data": {
      "image/png": "[encoded data removed]",
      "text/plain": [
       "<matplotlib.figure.Figure at 0x7ff5d7b73438>"
      ]
     },
     "metadata": {},
     "output_type": "display_data"
    }
   ],
   "source": [
    "dist = np.linalg.norm(df11.as_matrix()-mdfcm, axis=1)\n",
    "plt.hist(dist,30)"
   ]
  },
  {
   "cell_type": "code",
   "execution_count": 97,
   "metadata": {},
   "outputs": [
    {
     "data": {
      "text/plain": [
       "(array([  1.,   3.,   6.,  11.,  10.,   6.,  12.,  19.,  20.,  21.,  17.,\n",
       "         22.,  24.,  14.,  18.,  17.,  16.,  30.,  21.,  20.,  13.,   7.,\n",
       "          8.,   4.,   2.,   1.,   0.,   0.,   1.,   2.]),\n",
       " array([ 0.57601529,  0.64065039,  0.70528549,  0.76992059,  0.83455569,\n",
       "         0.89919079,  0.96382589,  1.02846099,  1.09309609,  1.15773119,\n",
       "         1.22236629,  1.28700139,  1.35163649,  1.41627159,  1.48090669,\n",
       "         1.54554179,  1.61017689,  1.67481199,  1.73944709,  1.80408219,\n",
       "         1.8687173 ,  1.9333524 ,  1.9979875 ,  2.0626226 ,  2.1272577 ,\n",
       "         2.1918928 ,  2.2565279 ,  2.321163  ,  2.3857981 ,  2.4504332 ,\n",
       "         2.5150683 ]),\n",
       " <a list of 30 Patch objects>)"
      ]
     },
     "execution_count": 97,
     "metadata": {},
     "output_type": "execute_result"
    },
    {
     "data": {
      "image/png": "[encoded data removed]",
      "text/plain": [
       "<matplotlib.figure.Figure at 0x7ff5d7b3fc18>"
      ]
     },
     "metadata": {},
     "output_type": "display_data"
    }
   ],
   "source": [
    "dist2 = np.linalg.norm(df01.as_matrix()-mdfcm, axis=1)\n",
    "plt.hist(dist2,30)"
   ]
  },
  {
   "cell_type": "code",
   "execution_count": 27,
   "metadata": {},
   "outputs": [],
   "source": [
    "import libmr \n",
    "tailsize = 20\n",
    "mr = libmr.MR()\n",
    "tailtofit = sorted(dist)[-tailsize:]\n",
    "mr.fit_high(tailtofit, len(tailtofit))"
   ]
  },
  {
   "cell_type": "code",
   "execution_count": 98,
   "metadata": {},
   "outputs": [
    {
     "name": "stdout",
     "output_type": "stream",
     "text": [
      "0.2 0.976744186047\n",
      "0.314285714286 0.95652173913\n",
      "0.47619047619 0.952380952381\n",
      "0.590476190476 0.939393939394\n",
      "0.690476190476 0.868263473054\n",
      "0.77619047619 0.835897435897\n",
      "0.833333333333 0.813953488372\n",
      "0.9 0.771428571429\n",
      "0.942857142857 0.6875\n",
      "0.966666666667 0.640378548896\n",
      "0.980952380952 0.628048780488\n",
      "0.990476190476 0.613569321534\n",
      "0.995238095238 0.609329446064\n",
      "0.995238095238 0.609329446064\n",
      "0.995238095238 0.607558139535\n",
      "1.0 0.608695652174\n",
      "1.0 0.606936416185\n",
      "1.0 0.606936416185\n",
      "1.0 0.606936416185\n",
      "1.0 0.606936416185\n",
      "1.0 0.606936416185\n",
      "1.0 0.606936416185\n",
      "1.0 0.606936416185\n",
      "1.0 0.606936416185\n",
      "1.0 0.606936416185\n",
      "1.0 0.606936416185\n",
      "1.0 0.606936416185\n",
      "1.0 0.606936416185\n",
      "1.0 0.606936416185\n",
      "1.0 0.606936416185\n",
      "1.0 0.606936416185\n",
      "1.0 0.606936416185\n",
      "1.0 0.606936416185\n",
      "1.0 0.606936416185\n",
      "1.0 0.606936416185\n",
      "1.0 0.606936416185\n",
      "1.0 0.606936416185\n",
      "1.0 0.606936416185\n",
      "1.0 0.606936416185\n",
      "1.0 0.606936416185\n"
     ]
    }
   ],
   "source": [
    "for i in range(10,50):\n",
    "    i = i/10\n",
    "    print( (dist<i).mean(), (dist<i).sum()/(dist2<i).sum())"
   ]
  },
  {
   "cell_type": "code",
   "execution_count": 130,
   "metadata": {},
   "outputs": [
    {
     "data": {
      "text/plain": [
       "array([ 1.44061199,  1.7922003 ,  1.87160917, ...,  3.72106607,\n",
       "        2.44856805,  1.92109347])"
      ]
     },
     "execution_count": 130,
     "metadata": {},
     "output_type": "execute_result"
    }
   ],
   "source": [
    "np.concatenate([dist,dist2])"
   ]
  },
  {
   "cell_type": "code",
   "execution_count": 129,
   "metadata": {},
   "outputs": [
    {
     "data": {
      "text/plain": [
       "array([ 1.62174288,  2.42904699,  2.19173379,  1.80328724,  1.64995967,\n",
       "        2.42983895,  2.01329557,  2.45597934,  2.01298987,  3.52828113,\n",
       "        2.30264   ,  3.10156767,  3.53448467,  3.52213239,  2.17075536,\n",
       "        3.64925465,  3.03056187,  3.58288326,  3.30535603,  2.67320859,\n",
       "        2.56460935,  2.00405322,  3.59800859,  2.34439331,  2.16097441,\n",
       "        2.09756655,  3.78163901,  1.64713447,  3.51569759,  1.63662039,\n",
       "        2.18434495,  3.81669567,  2.08795927,  1.74799327,  2.80190933,\n",
       "        2.71824926,  2.12423263,  3.21591469,  1.81993972,  1.63512646,\n",
       "        1.65541896,  1.65764157,  2.07090996,  3.08572599,  3.60272253,\n",
       "        3.81715375,  1.82143998,  1.92955582,  2.54108852,  1.66949956,\n",
       "        2.28178504,  3.22985123,  1.8753304 ,  3.66835501,  1.50805144,\n",
       "        1.83008413,  2.63940098,  2.18981362,  2.60930413,  2.53859973,\n",
       "        4.12738701,  3.80487412,  2.38338959,  3.66660154,  1.77891773,\n",
       "        3.69932329,  2.29331033,  3.4841127 ,  2.70302057,  2.17301149,\n",
       "        1.7957333 ,  2.97359059,  2.35935377,  1.74819139,  3.3558944 ,\n",
       "        3.23209306,  2.40622087,  2.2418346 ,  1.79460035,  3.0695218 ,\n",
       "        3.08356488,  3.68974884,  2.0350754 ,  3.59231613,  2.02295946,\n",
       "        2.15441845,  3.82540985,  2.01858537,  1.91910539,  2.51366978,\n",
       "        2.24732984,  3.22591985,  2.04134456,  2.28806179,  3.11877688,\n",
       "        2.43897592,  1.70899808,  2.09047145,  2.26470825,  3.01946716,\n",
       "        2.1389038 ,  1.97198899,  3.98349685,  1.71811461,  2.81735851,\n",
       "        2.11328393,  2.0942692 ,  1.69453191,  2.25288381,  1.77002163,\n",
       "        2.90270039,  2.08491367,  2.24316995,  2.53816934,  2.14808879,\n",
       "        2.04218364,  2.92531816,  3.73302943,  1.79120665,  2.40448918,\n",
       "        3.26900867,  3.7633569 ,  2.98510271,  2.31927512,  3.72106607,\n",
       "        2.44856805,  1.92109347])"
      ]
     },
     "execution_count": 129,
     "metadata": {},
     "output_type": "execute_result"
    }
   ],
   "source": [
    "dist2"
   ]
  },
  {
   "cell_type": "code",
   "execution_count": null,
   "metadata": {},
   "outputs": [],
   "source": []
  }
 ],
 "metadata": {
  "kernelspec": {
   "display_name": "Python 3",
   "language": "python",
   "name": "python3"
  },
  "language_info": {
   "codemirror_mode": {
    "name": "ipython",
    "version": 3
   },
   "file_extension": ".py",
   "mimetype": "text/x-python",
   "name": "python",
   "nbconvert_exporter": "python",
   "pygments_lexer": "ipython3",
   "version": "3.6.3"
  }
 },
 "nbformat": 4,
 "nbformat_minor": 2
}
